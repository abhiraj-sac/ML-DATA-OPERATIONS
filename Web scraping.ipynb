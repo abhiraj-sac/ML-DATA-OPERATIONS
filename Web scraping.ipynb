{
 "cells": [
  {
   "cell_type": "code",
   "execution_count": 2,
   "id": "d0fde7b5",
   "metadata": {},
   "outputs": [],
   "source": [
    "import pandas as pd\n",
    "import requests\n",
    "from bs4 import BeautifulSoup"
   ]
  },
  {
   "cell_type": "code",
   "execution_count": null,
   "id": "d67d173a",
   "metadata": {},
   "outputs": [],
   "source": [
    "headers={'User-Agent':'Mozilla/5.0 (Windows NT 6.3; Win 64 ; x64) Apple WeKit /537.36(KHTML , like Gecko) Chrome/80.0.3987.162 Safari/537.36'}\n",
    "# webpage = requests.get('https://www.ambitionbox.com/list-of-companies?page=1',headers=headers).text\n",
    "# soup = BeautifulSoup(webpage,'lxml')\n",
    "# review=[]\n",
    "# name=[]\n",
    "# rating=[]\n",
    "# company = soup.find_all('div',class_='companyCardWrapper')\n",
    "\n",
    "\n",
    "\n",
    "for j in range(1,1001):\n",
    "  webpage=requests.get('https://www.ambitionbox.com/list-of-companies?page={}'.format(j)).text\n",
    "  soup=BeautifulSoup(webpage,'lxml')\n",
    "  company=soup.find_all('div',class_='company-content-wrapper')\n",
    "  name=[]\n",
    "  rating=[]\n",
    "  reviews=[]\n",
    "  \n",
    "# for i in company:\n",
    "#     name.append(i.find('h2').text.strip())\n",
    "#     rating.append(i.find('span',class_='companyCardWrapper__companyRatingValue').text.strip())\n",
    "#     review.append(i.find('span',class_='companyCardWrapper__ActionCount').text.strip())\n",
    "#     highlyratredfor.append(i.find('a',class_='companyCardWrapper__ActionWrapper').text.strip())\n",
    "    \n",
    "    \n",
    "    \n",
    "    \n",
    "for i in company:\n",
    "\n",
    "    try:\n",
    "      name.append(i.find('h2').text.strip())\n",
    "    except:\n",
    "       name.append(np.nan)\n",
    "\n",
    "    try:\n",
    "      rating.append(i.find('span',class_='companyCardWrapper__companyRatingValue').text.strip())\n",
    "    except:\n",
    "       rating.append(np.nan)\n",
    "   \n",
    "    try:\n",
    "\n",
    "      review.append(i.find('span',class_='companyCardWrapper__ActionCount').text.strip())\n",
    "    except:\n",
    "      review.append(np.nan)\n",
    "    \n",
    "    \n",
    "    \n",
    "# print(soup.prettify())\n",
    "# soup.find_all('h1')[0].text.strip()\n",
    "# for i in soup.find_all('h2'):\n",
    "#     print(i.text.strip())\n",
    "# soup.find_all('div',class_='companyCardWrapper__companyRatingWrapper').text\n",
    "# soup.find_all('span',class_='companyCardWrapper__ActionCount')\n",
    "# rating\n",
    "d={'name':name,'rating':rating,'reviews':reviews}\n",
    "# try:\n",
    "#     pd.DataFrame(d)\n",
    "# except:\n",
    "#         print(\"not all same length\")\n",
    "pd.DataFrame(d)"
   ]
  },
  {
   "cell_type": "markdown",
   "id": "0b9a4865",
   "metadata": {},
   "source": []
  }
 ],
 "metadata": {
  "kernelspec": {
   "display_name": "Python 3 (ipykernel)",
   "language": "python",
   "name": "python3"
  },
  "language_info": {
   "codemirror_mode": {
    "name": "ipython",
    "version": 3
   },
   "file_extension": ".py",
   "mimetype": "text/x-python",
   "name": "python",
   "nbconvert_exporter": "python",
   "pygments_lexer": "ipython3",
   "version": "3.11.5"
  }
 },
 "nbformat": 4,
 "nbformat_minor": 5
}
