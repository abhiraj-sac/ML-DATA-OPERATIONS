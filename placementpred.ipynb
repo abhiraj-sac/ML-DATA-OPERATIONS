{
  "nbformat": 4,
  "nbformat_minor": 0,
  "metadata": {
    "colab": {
      "provenance": [],
      "authorship_tag": "ABX9TyOJWmhoof5pynHcT3fu9r8o",
      "include_colab_link": true
    },
    "kernelspec": {
      "name": "python3",
      "display_name": "Python 3"
    },
    "language_info": {
      "name": "python"
    }
  },
  "cells": [
    {
      "cell_type": "markdown",
      "metadata": {
        "id": "view-in-github",
        "colab_type": "text"
      },
      "source": [
        "<a href=\"https://colab.research.google.com/github/abhiraj-sac/ML-DATA-OPERATIONS/blob/main/placementpred.ipynb\" target=\"_parent\"><img src=\"https://colab.research.google.com/assets/colab-badge.svg\" alt=\"Open In Colab\"/></a>"
      ]
    },
    {
      "cell_type": "code",
      "source": [
        "import numpy as np\n",
        "import pandas as pd\n",
        "import matplotlib.pyplot as pt\n",
        "file=pd.read_csv('placement.csv')\n",
        "df=file.iloc[:,1:]\n",
        "df.head()\n",
        "# pt.scatter(df['cgpa'],df['iq'],c=df['placement'])\n",
        "x =df.iloc[:,0:-1]\n",
        "y=df.iloc[:,-1]\n",
        "from sklearn.model_selection import train_test_split\n",
        "x_train,x_test,y_train,y_test= train_test_split(x,y,test_size=0.1)\n",
        "from sklearn.preprocessing import StandardScaler\n",
        "scaler = StandardScaler()\n",
        "x_train =scaler.fit_transform(x_train)\n",
        "# x_train\n",
        "x_test= scaler.transform(x_test)\n",
        "# x_test\n",
        "from sklearn.linear_model import LogisticRegression\n",
        "clf = LogisticRegression()\n",
        "clf.fit(x_train,y_train)\n",
        "y_preds =clf.predict(x_test)\n",
        "from sklearn.metrics import accuracy_score\n",
        "accuracy_score(y_test,y_preds)\n",
        "from mlxtend.plotting import plot_decision_regions\n",
        "plot_decision_regions(x_train, y_train.values, clf=clf, legend=2)\n"
      ],
      "metadata": {
        "id": "xVVmUNFJk2Fv",
        "colab": {
          "base_uri": "https://localhost:8080/",
          "height": 447
        },
        "outputId": "7fd6f6f5-b973-489c-bcb4-f80c3a49ab52"
      },
      "execution_count": null,
      "outputs": [
        {
          "output_type": "execute_result",
          "data": {
            "text/plain": [
              "<Axes: >"
            ]
          },
          "metadata": {},
          "execution_count": 4
        },
        {
          "output_type": "display_data",
          "data": {
            "text/plain": [
              "<Figure size 640x480 with 1 Axes>"
            ],
            "image/png": "[encoded data removed]"
          },
          "metadata": {}
        }
      ]
    },
    {
      "cell_type": "code",
      "source": [
        "import pickle\n",
        "pickle.dump(clf,open('model.pkl','wb'))"
      ],
      "metadata": {
        "id": "49vzUH7ud3Bj"
      },
      "execution_count": null,
      "outputs": []
    },
    {
      "cell_type": "code",
      "source": [
        "import pandas as pd\n",
        "import requests\n",
        "from bs4 import BeautifulSoup\n",
        "headers={'User-Agent':'Mozilla/5.0 (Windows NT 6.3; Win 64 ; x64) Apple WeKit /537.36(KHTML , like Gecko) Chrome/80.0.3987.162 Safari/537.36'}\n",
        "webpage = requests.get('https://www.ambitionbox.com/list-of-companies?page=1',headers=headers).text\n",
        "soup = BeautifulSoup(webpage,'lxml')\n",
        "review=[]\n",
        "name=[]\n",
        "rating=[]\n",
        "company = soup.find_all('div',class_='companyCardWrapper__primaryInformation')\n",
        "for i in company:\n",
        "    name.append(i.find('h2').text.strip())\n",
        "    rating.append(i.find('span',class_='companyCardWrapper__companyRatingValue').text.strip())\n",
        "    # print(i.find_all('span',class_='companyCardWrapper__ActionCount'))"
      ],
      "metadata": {
        "id": "dQJiIlUM2010"
      },
      "execution_count": null,
      "outputs": []
    },
    {
      "cell_type": "code",
      "source": [
        "import pandas as pd\n",
        "import numpy as np\n",
        "import seaborn as sb\n",
        "titanic = pd.read_csv('titanic.csv')\n",
        "# FINDING THE MISSING VALUES\n",
        "# df.isnull().sum()\n",
        "# df.duplicated().sum()\n",
        "# COLLRELATION BETWEEN COLUMNS\n",
        "# df.corr()['Survived']\n",
        "# sb.countplot(df['Survived'])\n",
        "(titanic.groupby('Pclass').mean()['Survived']*100).plot(kind=\"bar\")"
      ],
      "metadata": {
        "colab": {
          "base_uri": "https://localhost:8080/",
          "height": 516
        },
        "id": "gDxfTSgPKhxc",
        "outputId": "f6b153d9-930d-4c4c-e64d-8fdca06fd667"
      },
      "execution_count": null,
      "outputs": [
        {
          "output_type": "stream",
          "name": "stderr",
          "text": [
            "<ipython-input-6-347eb5413824>:11: FutureWarning: The default value of numeric_only in DataFrameGroupBy.mean is deprecated. In a future version, numeric_only will default to False. Either specify numeric_only or select only columns which should be valid for the function.\n",
            "  (titanic.groupby('Pclass').mean()['Survived']*100).plot(kind=\"bar\")\n"
          ]
        },
        {
          "output_type": "execute_result",
          "data": {
            "text/plain": [
              "<Axes: xlabel='Pclass'>"
            ]
          },
          "metadata": {},
          "execution_count": 6
        },
        {
          "output_type": "display_data",
          "data": {
            "text/plain": [
              "<Figure size 640x480 with 1 Axes>"
            ],
            "image/png": "[encoded data removed]"
          },
          "metadata": {}
        }
      ]
    },
    {
      "cell_type": "code",
      "source": [],
      "metadata": {
        "id": "EtYM7tUpLEY_"
      },
      "execution_count": null,
      "outputs": []
    }
  ]
}