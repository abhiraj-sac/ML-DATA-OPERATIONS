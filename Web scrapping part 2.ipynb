{
 "cells": [
  {
   "cell_type": "code",
   "execution_count": 2,
   "id": "4fb4f98f",
   "metadata": {},
   "outputs": [],
   "source": [
    "import pandas as pd\n",
    "import requests\n",
    "from bs4 import BeautifulSoup"
   ]
  },
  {
   "cell_type": "code",
   "execution_count": 18,
   "id": "4921ef31",
   "metadata": {},
   "outputs": [
    {
     "data": {
      "text/plain": [
       "['Alexander Isak',\n",
       " 'James Maddison',\n",
       " 'Thiago Silva',\n",
       " 'Bernd Leno',\n",
       " 'Newcastle',\n",
       " 'Crystal Palace',\n",
       " 'Man City',\n",
       " 'Burnley']"
      ]
     },
     "execution_count": 18,
     "metadata": {},
     "output_type": "execute_result"
    }
   ],
   "source": [
    "headers={'User-Agent':'Mozilla/5.0 (Windows NT 6.3; Win 64 ; x64) Apple WeKit /537.36(KHTML , like Gecko) Chrome/80.0.3987.162 Safari/537.36'}\n",
    "webpage = requests.get('https://www.premierleague.com/stats',headers=headers).text\n",
    "soup = BeautifulSoup(webpage,'lxml')\n",
    "players = soup.find_all('ul',class_='top-stats__list')\n",
    "name =[]\n",
    "for i in players:\n",
    "    name.append(i.find('a',class_='top-stats__row-name').text.strip().replace(\"\\n\",\"\"))\n",
    "    \n",
    "    \n",
    "# soup.find('li',class_=\"top-stats__row top-stats__row--\").text.strip()\n",
    "# name.append(players.find('top-stats__row top-stats__row--').text.strip().replace(\"\\n\",\"\"))\n",
    "name"
   ]
  },
  {
   "cell_type": "code",
   "execution_count": null,
   "id": "358116a3",
   "metadata": {},
   "outputs": [],
   "source": []
  }
 ],
 "metadata": {
  "kernelspec": {
   "display_name": "Python 3 (ipykernel)",
   "language": "python",
   "name": "python3"
  },
  "language_info": {
   "codemirror_mode": {
    "name": "ipython",
    "version": 3
   },
   "file_extension": ".py",
   "mimetype": "text/x-python",
   "name": "python",
   "nbconvert_exporter": "python",
   "pygments_lexer": "ipython3",
   "version": "3.11.5"
  }
 },
 "nbformat": 4,
 "nbformat_minor": 5
}
